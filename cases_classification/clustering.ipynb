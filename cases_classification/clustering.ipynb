{
 "cells": [
  {
   "cell_type": "code",
   "execution_count": 1,
   "metadata": {},
   "outputs": [],
   "source": [
    "from sklearn.cluster import AgglomerativeClustering\n",
    "import matplotlib.pyplot as plt \n",
    "from datetime import datetime\n",
    "import lxml.etree as ET\n",
    "import pandas as pd\n",
    "import numpy as np\n",
    "import os"
   ]
  },
  {
   "cell_type": "markdown",
   "metadata": {},
   "source": [
    "# Create clusters by grouping articles that are about the same case\n",
    "\n",
    "\n",
    "\n",
    "STEPS:\n",
    "1. Create a distance matrix as 1 - [prob of being about the same case] for each pair of articles\n",
    "2. Apply a clustering algorithm\n",
    "3. Store clusters: cluster_id - tweet_id\n",
    "4. Store a dataframe with information about the articles and their associated cluster_id"
   ]
  },
  {
   "cell_type": "code",
   "execution_count": 2,
   "metadata": {},
   "outputs": [],
   "source": [
    "INPUT_FILE_PATH = '../data/cases_pairwise_proba.csv'\n",
    "NEWS_PATH = '../data/news/'\n",
    "OUTPUT_PATH = '../data'"
   ]
  },
  {
   "cell_type": "markdown",
   "metadata": {},
   "source": [
    "## Step 1 - Create distance matrix"
   ]
  },
  {
   "cell_type": "code",
   "execution_count": 3,
   "metadata": {},
   "outputs": [],
   "source": [
    "pairs_df = pd.read_csv(INPUT_FILE_PATH)\n",
    "pairs_df['tweet_id_A'] = pairs_df['tweet_id_A'].apply(lambda x: str(x))\n",
    "pairs_df['tweet_id_B'] = pairs_df['tweet_id_B'].apply(lambda x: str(x))"
   ]
  },
  {
   "cell_type": "code",
   "execution_count": 4,
   "metadata": {},
   "outputs": [],
   "source": [
    "all_tweet_ids = list(set(np.concatenate([pairs_df['tweet_id_A'].unique(), pairs_df['tweet_id_B'].unique()])))\n",
    "mapping_keys = dict(zip(all_tweet_ids, range(len(all_tweet_ids))))\n",
    "mapping_pos  = dict(zip(list(mapping_keys.values()), list(mapping_keys.keys())))"
   ]
  },
  {
   "cell_type": "code",
   "execution_count": 5,
   "metadata": {},
   "outputs": [],
   "source": [
    "N = len(mapping_keys)\n",
    "proba_matrix = np.zeros(shape=(N,N))\n",
    "for i, row in pairs_df.iterrows():\n",
    "    pos_A = mapping_keys[row['tweet_id_A']]\n",
    "    pos_B = mapping_keys[row['tweet_id_B']]\n",
    "    proba = row['same_case_pred_proba']\n",
    "    \n",
    "    proba_matrix[pos_A, pos_B] = 1- proba\n",
    "    proba_matrix[pos_B, pos_A] = 1- proba"
   ]
  },
  {
   "cell_type": "code",
   "execution_count": 6,
   "metadata": {},
   "outputs": [
    {
     "data": {
      "text/plain": [
       "array([[0.        , 0.9992046 , 0.99904455, ..., 0.99935948, 0.99850678,\n",
       "        0.99909694],\n",
       "       [0.9992046 , 0.        , 0.99966443, ..., 0.99986113, 0.99950196,\n",
       "        0.99551742],\n",
       "       [0.99904455, 0.99966443, 0.        , ..., 0.99843597, 0.99921443,\n",
       "        0.99951008],\n",
       "       ...,\n",
       "       [0.99935948, 0.99986113, 0.99843597, ..., 0.        , 0.99857588,\n",
       "        0.99956876],\n",
       "       [0.99850678, 0.99950196, 0.99921443, ..., 0.99857588, 0.        ,\n",
       "        0.99921544],\n",
       "       [0.99909694, 0.99551742, 0.99951008, ..., 0.99956876, 0.99921544,\n",
       "        0.        ]])"
      ]
     },
     "execution_count": 6,
     "metadata": {},
     "output_type": "execute_result"
    }
   ],
   "source": [
    "proba_matrix"
   ]
  },
  {
   "cell_type": "markdown",
   "metadata": {},
   "source": [
    "## Step 2- Agglomerative clustering without number of clusters"
   ]
  },
  {
   "cell_type": "code",
   "execution_count": 7,
   "metadata": {},
   "outputs": [],
   "source": [
    "# ward linkage cannot be used with precomputed affinity \n",
    "clustering = AgglomerativeClustering(n_clusters = None, affinity='precomputed',\n",
    "                                     distance_threshold=0.3, linkage='average')\n",
    "c_dict = {}\n",
    "c_labels = clustering.fit_predict(proba_matrix)\n",
    "for i, cluster_id in enumerate(c_labels):\n",
    "    try:\n",
    "        c_dict[cluster_id].append(mapping_pos[i])\n",
    "    except:\n",
    "        c_dict[cluster_id] = [mapping_pos[i]]"
   ]
  },
  {
   "cell_type": "code",
   "execution_count": 8,
   "metadata": {},
   "outputs": [
    {
     "data": {
      "image/png": "[encoded data removed]",
      "text/plain": [
       "<Figure size 1440x720 with 1 Axes>"
      ]
     },
     "metadata": {
      "needs_background": "light"
     },
     "output_type": "display_data"
    }
   ],
   "source": [
    "cases_length = [len(items) for key, items in c_dict.items()]\n",
    "\n",
    "f = plt.figure(figsize = (20,10))\n",
    "plt.title('Histogram of number of articles for each case')\n",
    "plt.hist(cases_length)\n",
    "plt.xlabel('Number of articles per case')\n",
    "plt.ylabel('Absolute frequency')\n",
    "plt.show()"
   ]
  },
  {
   "cell_type": "code",
   "execution_count": 9,
   "metadata": {},
   "outputs": [
    {
     "data": {
      "text/plain": [
       "{'affinity': 'precomputed',\n",
       " 'compute_full_tree': 'auto',\n",
       " 'connectivity': None,\n",
       " 'distance_threshold': 0.3,\n",
       " 'linkage': 'average',\n",
       " 'memory': None,\n",
       " 'n_clusters': None}"
      ]
     },
     "execution_count": 9,
     "metadata": {},
     "output_type": "execute_result"
    }
   ],
   "source": [
    "clustering.get_params()"
   ]
  },
  {
   "cell_type": "markdown",
   "metadata": {},
   "source": [
    "### Steps 3 and 4 - Store the data in two different formats\n",
    "- cases_ids.csv --> for working later with the clusters\n",
    "- cases_info.csv --> for visualization purposes"
   ]
  },
  {
   "cell_type": "code",
   "execution_count": 10,
   "metadata": {},
   "outputs": [],
   "source": [
    "cases_df = pd.DataFrame(columns=['case_id', 'tweet_ids'])\n",
    "for case_id, list_t in c_dict.items():\n",
    "    cases_df = cases_df.append({'case_id': case_id, 'tweet_ids': list_t}, ignore_index = True)\n",
    "\n",
    "\n",
    "cases_df.to_csv(f'data/cases_ids.csv', index = False)"
   ]
  },
  {
   "cell_type": "code",
   "execution_count": 11,
   "metadata": {},
   "outputs": [],
   "source": [
    "def listdir_checked(path, unwanted = ['.DS_Store']):\n",
    "    '''\n",
    "    Discard unwanted files or directories when listing the elements in a given path\n",
    "    '''\n",
    "    return (f for f in os.listdir(path) if f not in unwanted)\n",
    "\n",
    "\n",
    "def create_articles_dictionary(NEWS_PATH):\n",
    "    '''\n",
    "    Import articles information.\n",
    "    Articles are stored in directories in the NEWS_PATH.\n",
    "    '''\n",
    "    data = {}               # keys: media, value: list of dictionaries with info about the news articles of the given media\n",
    "    unique_urls = []        # list to store unique urls to discard repeated ones\n",
    "    repeated_data = {}      # store repeated articles following the same format as 'data' dictionary\n",
    "\n",
    "    for directory in listdir_checked(NEWS_PATH):\n",
    "        for file in listdir_checked(NEWS_PATH + directory):\n",
    "            full_path = NEWS_PATH + directory + '/' + file\n",
    "            # Read xml file - info stored following NewsML-G2 format\n",
    "            root = ET.parse(full_path).getroot()\n",
    "            # Parse news\n",
    "            media = file.rsplit('_', 1)[0]\n",
    "            # Check repeated urls\n",
    "            url = root.findall(\".//infoSource\")[0].get(\"uri\")\n",
    "            str_date = root.findall('.//contentMeta')[0].find('contentCreated').text[:10]\n",
    "            info = {\n",
    "                'id': file.split(':')[-1].replace('.xml', ''),\n",
    "                'media': media,\n",
    "                'publication_date': datetime.strptime(str_date, '%Y-%m-%d'),\n",
    "                'title': root.findall('.//itemRef')[0].find('title').text,\n",
    "                'headline': root.findall(\".//itemRef\")[0].find('description').text.strip(),\n",
    "                'article': root.findall('.//itemRef')[1].find('description').text.strip(),\n",
    "                'url': url\n",
    "            }\n",
    "\n",
    "            if url not in unique_urls:\n",
    "                unique_urls.append(url)\n",
    "                try:\n",
    "                    data[media].append(info)\n",
    "                except:\n",
    "                    data[media] = [info]\n",
    "\n",
    "            else:\n",
    "                try:\n",
    "                    repeated_data[media].append(info)\n",
    "                except:\n",
    "                    repeated_data[media] = [info]\n",
    "                    \n",
    "    return data, repeated_data\n",
    "\n",
    "\n",
    "def get_data_info(data, dict_key, value):\n",
    "    '''\n",
    "    Aux function to obtain the info of the articles with the given \n",
    "    value for the provided dict_key in data\n",
    "    '''\n",
    "    matching_elements = []\n",
    "    for media, news in data.items():\n",
    "        for article in news:\n",
    "            if article[dict_key] == value:\n",
    "                matching_elements.append(article)\n",
    "    return matching_elements\n"
   ]
  },
  {
   "cell_type": "code",
   "execution_count": 12,
   "metadata": {},
   "outputs": [],
   "source": [
    "# IMPORT INFORMATION ABOUT ARTICLES\n",
    "data, repeated_data = create_articles_dictionary(NEWS_PATH)"
   ]
  },
  {
   "cell_type": "code",
   "execution_count": 13,
   "metadata": {},
   "outputs": [],
   "source": [
    "clusters_df = pd.DataFrame(columns = ['cluster_id', 'tweet_id', 'article_title', 'media'])\n",
    "for i, row in cases_df.iterrows():\n",
    "    for t_id in row['tweet_ids']:\n",
    "        clusters_df = clusters_df.append({'cluster_id': row['case_id'], \n",
    "                                          'tweet_id': t_id, \n",
    "                                          'article_title': get_data_info(data,'id', t_id)[0]['title'],\n",
    "                                          'media': get_data_info(data, 'id', t_id)[0]['media']},\n",
    "                                        ignore_index = True)  \n",
    "\n",
    "clusters_df.to_csv(f'{OUTPUT_PATH}/cases_info.csv', index=False)"
   ]
  }
 ],
 "metadata": {
  "kernelspec": {
   "display_name": "Python 3",
   "language": "python",
   "name": "python3"
  },
  "language_info": {
   "codemirror_mode": {
    "name": "ipython",
    "version": 3
   },
   "file_extension": ".py",
   "mimetype": "text/x-python",
   "name": "python",
   "nbconvert_exporter": "python",
   "pygments_lexer": "ipython3",
   "version": "3.7.4"
  }
 },
 "nbformat": 4,
 "nbformat_minor": 2
}
